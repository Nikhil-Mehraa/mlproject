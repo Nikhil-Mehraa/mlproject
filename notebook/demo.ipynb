{
 "cells": [
  {
   "cell_type": "code",
   "execution_count": null,
   "id": "beca042b",
   "metadata": {},
   "outputs": [],
   "source": [
    "print(\"nikil\")"
   ]
  },
  {
   "cell_type": "code",
   "execution_count": null,
   "id": "8899ef67",
   "metadata": {},
   "outputs": [],
   "source": []
  }
 ],
 "metadata": {
  "kernelspec": {
   "display_name": "Python 3",
   "language": "python",
   "name": "python3"
  },
  "language_info": {
   "name": "python",
   "version": "3.14.0"
  }
 },
 "nbformat": 4,
 "nbformat_minor": 5
}
